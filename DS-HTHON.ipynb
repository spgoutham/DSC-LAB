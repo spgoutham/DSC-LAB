{
 "cells": [
  {
   "cell_type": "code",
   "execution_count": 54,
   "id": "8ea455a1",
   "metadata": {},
   "outputs": [],
   "source": [
    "import pandas as pd \n",
    "import seaborn as sns \n",
    "import numpy as np \n",
    "import matplotlib.pyplot as plt\n"
   ]
  },
  {
   "cell_type": "code",
   "execution_count": 55,
   "id": "2eeac6fb",
   "metadata": {},
   "outputs": [],
   "source": [
    "df = pd.read_csv('/Users/goutham/Downloads/Data Analytics Hackathon Dataset/iraste_nxt_cas.csv')"
   ]
  },
  {
   "cell_type": "code",
   "execution_count": 56,
   "id": "1b6f3dc1",
   "metadata": {},
   "outputs": [],
   "source": [
    "df['Alert'] = df['Alert'].str.split('_').str[1]"
   ]
  },
  {
   "cell_type": "code",
   "execution_count": 57,
   "id": "57e4736d",
   "metadata": {},
   "outputs": [],
   "source": [
    "def convert_to_hours(time_str):\n",
    "    h, m, s = map(int, time_str.split(':'))\n",
    "    return h + m / 60 + s / 3600\n"
   ]
  },
  {
   "cell_type": "code",
   "execution_count": 58,
   "id": "f096d66d",
   "metadata": {},
   "outputs": [],
   "source": [
    "df['Hour'] = df['Time'].apply(convert_to_hours)\n"
   ]
  },
  {
   "cell_type": "code",
   "execution_count": 59,
   "id": "06890a21",
   "metadata": {},
   "outputs": [],
   "source": [
    "vehicle_counts = df['Vehicle'].value_counts()\n",
    "vehicles_gt_100 = vehicle_counts[vehicle_counts > 100].index\n",
    "df = df[df['Vehicle'].isin(vehicles_gt_100)]\n"
   ]
  },
  {
   "cell_type": "code",
   "execution_count": 60,
   "id": "713e4559",
   "metadata": {},
   "outputs": [],
   "source": [
    "df['Lat'] = df['Lat'].round(3)\n",
    "df['Long'] = df['Long'].round(3)\n"
   ]
  },
  {
   "cell_type": "code",
   "execution_count": 61,
   "id": "fbf44392",
   "metadata": {},
   "outputs": [],
   "source": [
    "df.dropna(inplace=True)"
   ]
  },
  {
   "cell_type": "code",
   "execution_count": 62,
   "id": "0ef18d27",
   "metadata": {},
   "outputs": [],
   "source": [
    "grouped_data = df.groupby(['Lat', 'Long', 'Alert']).size().reset_index(name='Count')"
   ]
  },
  {
   "cell_type": "code",
   "execution_count": 63,
   "id": "e447ab20",
   "metadata": {},
   "outputs": [
    {
     "data": {
      "image/png": "[encoded data removed]",
      "text/plain": [
       "<Figure size 1000x600 with 1 Axes>"
      ]
     },
     "metadata": {},
     "output_type": "display_data"
    }
   ],
   "source": [
    "import matplotlib.pyplot as plt\n",
    "import seaborn as sns \n",
    "\n",
    "# Assuming 'grouped_data' DataFrame is defined earlier in your code\n",
    "\n",
    "# Set the style of the plot\n",
    "sns.set_style(\"whitegrid\")\n",
    "\n",
    "# Create a color palette for the plot\n",
    "colors = sns.color_palette(\"pastel\")\n",
    "\n",
    "# Create the bar plot\n",
    "plt.figure(figsize=(10, 6))\n",
    "sns.barplot(x='Alert', y='Count', data=grouped_data, order=grouped_data['Alert'].value_counts().index[:5], palette=colors)\n",
    "\n",
    "# Add a title and labels\n",
    "plt.title('Top 5 Alert Types', fontsize=16)\n",
    "plt.xlabel('Alert', fontsize=14)\n",
    "plt.ylabel('Count', fontsize=14)\n",
    "\n",
    "# Adjust tick labels font size\n",
    "plt.xticks(fontsize=12)\n",
    "plt.yticks(fontsize=12)\n",
    "\n",
    "# Show the plot\n",
    "plt.tight_layout()  # Adjust layout to prevent clipping of labels\n",
    "plt.show()\n"
   ]
  },
  {
   "cell_type": "code",
   "execution_count": 91,
   "id": "690e0123",
   "metadata": {},
   "outputs": [
    {
     "name": "stdout",
     "output_type": "stream",
     "text": [
      "Nagpur\n"
     ]
    }
   ],
   "source": [
    "import reverse_geocoder as rg\n",
    "\n",
    "# Define a function to get the nearest city or state name from latitude and longitude\n",
    "def get_nearest_city_or_state(lat, long):\n",
    "    result = rg.search((lat, long), mode=1)\n",
    "    if result:\n",
    "        # Extract city or state name from the result\n",
    "        city = result[0]['name']\n",
    "        state = result[0]['admin1']\n",
    "        if city:\n",
    "            return city\n",
    "        else:\n",
    "            return state or \"Unknown\"  # Return state if available, otherwise return \"Unknown\"\n",
    "    else:\n",
    "        return \"Unknown\"  # Return \"Unknown\" if location not found\n",
    "\n",
    "# Example usage:\n",
    "lat = 21.141  # Example latitude\n",
    "long = 79.078  # Example longitude\n",
    "print(get_nearest_city_or_state(lat, long))\n"
   ]
  },
  {
   "cell_type": "code",
   "execution_count": null,
   "id": "f180306d",
   "metadata": {},
   "outputs": [],
   "source": []
  },
  {
   "cell_type": "code",
   "execution_count": null,
   "id": "d195800c",
   "metadata": {},
   "outputs": [],
   "source": []
  },
  {
   "cell_type": "code",
   "execution_count": null,
   "id": "1c7f9484",
   "metadata": {},
   "outputs": [],
   "source": []
  },
  {
   "cell_type": "code",
   "execution_count": null,
   "id": "dd49d6b3",
   "metadata": {},
   "outputs": [],
   "source": []
  },
  {
   "cell_type": "code",
   "execution_count": null,
   "id": "09cc1403",
   "metadata": {},
   "outputs": [],
   "source": []
  },
  {
   "cell_type": "code",
   "execution_count": null,
   "id": "4d10a8b8",
   "metadata": {},
   "outputs": [],
   "source": []
  },
  {
   "cell_type": "code",
   "execution_count": null,
   "id": "c64ee2fa",
   "metadata": {},
   "outputs": [],
   "source": []
  }
 ],
 "metadata": {
  "kernelspec": {
   "display_name": "Python 3 (ipykernel)",
   "language": "python",
   "name": "python3"
  },
  "language_info": {
   "codemirror_mode": {
    "name": "ipython",
    "version": 3
   },
   "file_extension": ".py",
   "mimetype": "text/x-python",
   "name": "python",
   "nbconvert_exporter": "python",
   "pygments_lexer": "ipython3",
   "version": "3.11.5"
  }
 },
 "nbformat": 4,
 "nbformat_minor": 5
}
