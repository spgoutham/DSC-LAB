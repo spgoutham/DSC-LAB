{
 "cells": [
  {
   "cell_type": "code",
   "execution_count": 19,
   "id": "ef9a0a8a",
   "metadata": {},
   "outputs": [],
   "source": [
    "import pandas as pd \n",
    "import seaborn as sns \n",
    "import numpy as np \n",
    "import matplotlib.pyplot as plt\n"
   ]
  },
  {
   "cell_type": "code",
   "execution_count": 20,
   "id": "484a437f",
   "metadata": {},
   "outputs": [],
   "source": [
    "df = pd.read_csv('/Users/goutham/Downloads/Data Analytics Hackathon Dataset/iraste_nxt_cas.csv')"
   ]
  },
  {
   "cell_type": "code",
   "execution_count": 21,
   "id": "163953f4",
   "metadata": {},
   "outputs": [],
   "source": [
    "df['Alert'] = df['Alert'].str.split('_').str[1]"
   ]
  },
  {
   "cell_type": "code",
   "execution_count": 22,
   "id": "53f7cb2d",
   "metadata": {},
   "outputs": [],
   "source": [
    "def convert_to_hours(time_str):\n",
    "    h, m, s = map(int, time_str.split(':'))\n",
    "    return h + m / 60 + s / 3600\n"
   ]
  },
  {
   "cell_type": "code",
   "execution_count": 23,
   "id": "3c734e85",
   "metadata": {},
   "outputs": [],
   "source": [
    "df['Hour'] = df['Time'].apply(convert_to_hours)\n"
   ]
  },
  {
   "cell_type": "code",
   "execution_count": 24,
   "id": "d5372ac5",
   "metadata": {},
   "outputs": [],
   "source": [
    "vehicle_counts = df['Vehicle'].value_counts()\n",
    "vehicles_gt_100 = vehicle_counts[vehicle_counts > 100].index\n",
    "df = df[df['Vehicle'].isin(vehicles_gt_100)]\n"
   ]
  },
  {
   "cell_type": "code",
   "execution_count": 25,
   "id": "2083ba9c",
   "metadata": {},
   "outputs": [],
   "source": [
    "df['Lat'] = df['Lat'].round(3)\n",
    "df['Long'] = df['Long'].round(3)"
   ]
  },
  {
   "cell_type": "code",
   "execution_count": 26,
   "id": "77fc6494",
   "metadata": {},
   "outputs": [],
   "source": [
    "df.dropna(inplace=True)"
   ]
  },
  {
   "cell_type": "code",
   "execution_count": 27,
   "id": "a708e15e",
   "metadata": {},
   "outputs": [],
   "source": [
    "grouped_data = df.groupby(['Lat', 'Long', 'Alert']).size().reset_index(name='Count')"
   ]
  },
  {
   "cell_type": "code",
   "execution_count": 28,
   "id": "fb17f93c",
   "metadata": {},
   "outputs": [
    {
     "data": {
      "image/png": "[encoded data removed]",
      "text/plain": [
       "<Figure size 1000x600 with 1 Axes>"
      ]
     },
     "metadata": {},
     "output_type": "display_data"
    }
   ],
   "source": [
    "import matplotlib.pyplot as plt\n",
    "import seaborn as sns \n",
    "\n",
    "# Assuming 'grouped_data' DataFrame is defined earlier in your code\n",
    "\n",
    "# Set the style of the plot\n",
    "sns.set_style(\"whitegrid\")\n",
    "\n",
    "# Create a color palette for the plot\n",
    "colors = sns.color_palette(\"pastel\")\n",
    "\n",
    "# Create the bar plot\n",
    "plt.figure(figsize=(10, 6))\n",
    "sns.barplot(x='Alert', y='Count', data=grouped_data, order=grouped_data['Alert'].value_counts().index[:5], palette=colors)\n",
    "\n",
    "# Add a title and labels\n",
    "plt.title('Top 5 Alert Types', fontsize=16)\n",
    "plt.xlabel('Alert', fontsize=14)\n",
    "plt.ylabel('Count', fontsize=14)\n",
    "\n",
    "# Adjust tick labels font size\n",
    "plt.xticks(fontsize=12)\n",
    "plt.yticks(fontsize=12)\n",
    "\n",
    "# Show the plot\n",
    "plt.tight_layout()  # Adjust layout to prevent clipping of labels\n",
    "plt.show()\n"
   ]
  },
  {
   "cell_type": "code",
   "execution_count": null,
   "id": "cadfaa10",
   "metadata": {},
   "outputs": [],
   "source": [
    "#CONVERTING INTO CSV FILE \n",
    "\n",
    "\n",
    "import pandas as pd \n",
    "\n",
    "# Read the CSV file\n",
    "df = pd.read_csv('/Users/goutham/Downloads/Data Analytics Hackathon Dataset/iraste_nxt_cas.csv')\n",
    "\n",
    "# Extract the relevant information from 'Alert' column\n",
    "df['Alert'] = df['Alert'].str.split('_').str[1]\n",
    "\n",
    "# Function to convert time to hours\n",
    "def convert_to_hours(time_str):\n",
    "    h, m, s = map(int, time_str.split(':'))\n",
    "    return h + m / 60 + s / 3600\n",
    "\n",
    "# Apply the conversion function to 'Time' column\n",
    "df['Hour'] = df['Time'].apply(convert_to_hours)\n",
    "\n",
    "# Filter out vehicles with counts less than or equal to 100\n",
    "vehicle_counts = df['Vehicle'].value_counts()\n",
    "vehicles_gt_100 = vehicle_counts[vehicle_counts > 100].index\n",
    "df = df[df['Vehicle'].isin(vehicles_gt_100)]\n",
    "\n",
    "# Round 'Lat' and 'Long' columns to 3 decimal places\n",
    "df['Lat'] = df['Lat'].round(3)\n",
    "df['Long'] = df['Long'].round(3)\n",
    "\n",
    "# Export the modified DataFrame to a CSV file in the same location as the input file\n",
    "output_file_path = '/Users/goutham/Downloads/Data Analytics Hackathon Dataset/modified_data.csv'\n",
    "df.to_csv(output_file_path, index=False)\n"
   ]
  },
  {
   "cell_type": "code",
   "execution_count": null,
   "id": "49c184dc",
   "metadata": {},
   "outputs": [],
   "source": []
  },
  {
   "cell_type": "code",
   "execution_count": null,
   "id": "35f1789a",
   "metadata": {},
   "outputs": [],
   "source": []
  }
 ],
 "metadata": {
  "kernelspec": {
   "display_name": "Python 3 (ipykernel)",
   "language": "python",
   "name": "python3"
  },
  "language_info": {
   "codemirror_mode": {
    "name": "ipython",
    "version": 3
   },
   "file_extension": ".py",
   "mimetype": "text/x-python",
   "name": "python",
   "nbconvert_exporter": "python",
   "pygments_lexer": "ipython3",
   "version": "3.11.5"
  }
 },
 "nbformat": 4,
 "nbformat_minor": 5
}
